{
 "cells": [
  {
   "cell_type": "code",
   "execution_count": null,
   "id": "a26de580-4333-4370-89c9-5269a530971a",
   "metadata": {},
   "outputs": [],
   "source": [
    "\n",
    "import re\n",
    "password=input(\"Please give me a password: \")\n",
    "if len(re.findall(\"[A-Za-z0-9@#$%^&+=]\",password))>=10:\n",
    "    print(\"Great password\")\n",
    "else:\n",
    "    print(\"Incorect password\")"
   ]
  },
  {
   "cell_type": "code",
   "execution_count": 10,
   "id": "7db0438a-61ec-425a-a1dc-fdc798eb366e",
   "metadata": {},
   "outputs": [
    {
     "name": "stdout",
     "output_type": "stream",
     "text": [
      "True\n"
     ]
    }
   ],
   "source": [
    "# Question1:\n",
    "# check if the string start with the particular words:\n",
    "# start_letter ='m'\n",
    "\n",
    "# test_string = [\"mango\",\"orange\",\"grapes\"]\n",
    "# check = list(filter(lambda x: x.startswith(start_letter), test_string))\n",
    "# print(check)\n",
    "\n",
    "\n",
    "# question:2\n",
    "# check if the string is numeric \n",
    "# txt = \"3232323\"\n",
    "# print(txt.isnumeric())\n",
    "# question:3\n",
    "# fruit =[(\"mango\",99),(\"orange\",80),(\"grapes\",1000)]\n",
    "# fruit.sort(key=lambda x:x[1])\n",
    "# print(fruit)\n",
    "\n",
    "#question:5\n",
    "# numbers = [1,2,3,4,5,6,7,8,9,10]\n",
    "# sq= list(map(lambda x:x**2, numbers))\n",
    "# print(sq)\n",
    "\n",
    "#question:6\n",
    "# numbers = [1,2,3,4,5,6,7,8,9,10]\n",
    "# cb= list(map(lambda x:x*x*x, numbers))\n",
    "# print(cb)\n",
    "\n",
    "#question:7\n",
    "# numbers = [1,2,3,4,5,6,7,8,9,10]\n",
    "# evn= list((lambda x:x %2==0,numbers))\n",
    "# print(evn)\n",
    "#question:8\n",
    "# numbers = [1,2,3,4,5,6,7,8,9,10]\n",
    "# not_evn= list(filter(lambda x:x %2!=0,numbers))\n",
    "# print(not_evn)\n",
    "#question:9\n",
    "# lists = [1,2,3,4,5,6,-1,-2,-3,-4,-5,0]\n",
    "# res = (sorted(lists,key=lambda i: 0 if i<=0 else 1))\n",
    "# print(res)"
   ]
  },
  {
   "cell_type": "code",
   "execution_count": null,
   "id": "bf69c3a6-1846-4ced-8b7a-f75737e83c30",
   "metadata": {},
   "outputs": [],
   "source": []
  }
 ],
 "metadata": {
  "kernelspec": {
   "display_name": "Python 3 (ipykernel)",
   "language": "python",
   "name": "python3"
  },
  "language_info": {
   "codemirror_mode": {
    "name": "ipython",
    "version": 3
   },
   "file_extension": ".py",
   "mimetype": "text/x-python",
   "name": "python",
   "nbconvert_exporter": "python",
   "pygments_lexer": "ipython3",
   "version": "3.10.8"
  }
 },
 "nbformat": 4,
 "nbformat_minor": 5
}
